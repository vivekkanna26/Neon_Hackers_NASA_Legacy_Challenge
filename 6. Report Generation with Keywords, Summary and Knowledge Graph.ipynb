{
 "cells": [
  {
   "cell_type": "code",
   "execution_count": 2,
   "id": "5d623074",
   "metadata": {},
   "outputs": [
    {
     "name": "stderr",
     "output_type": "stream",
     "text": [
      "Config option `kernel_spec_manager_class` not recognized by `EnableBundlerExtensionApp`.\n",
      "Traceback (most recent call last):\n",
      "  File \"C:\\Users\\vivek\\miniconda3\\envs\\tensorflow\\Scripts\\jupyter-bundlerextension-script.py\", line 9, in <module>\n",
      "    sys.exit(main())\n",
      "  File \"C:\\Users\\vivek\\miniconda3\\envs\\tensorflow\\lib\\site-packages\\jupyter_core\\application.py\", line 264, in launch_instance\n",
      "    return super(JupyterApp, cls).launch_instance(argv=argv, **kwargs)\n",
      "  File \"C:\\Users\\vivek\\miniconda3\\envs\\tensorflow\\lib\\site-packages\\traitlets\\config\\application.py\", line 846, in launch_instance\n",
      "    app.start()\n",
      "  File \"C:\\Users\\vivek\\miniconda3\\envs\\tensorflow\\lib\\site-packages\\notebook\\bundler\\bundlerextensions.py\", line 297, in start\n",
      "    super().start()\n",
      "  File \"C:\\Users\\vivek\\miniconda3\\envs\\tensorflow\\lib\\site-packages\\jupyter_core\\application.py\", line 253, in start\n",
      "    self.subapp.start()\n",
      "  File \"C:\\Users\\vivek\\miniconda3\\envs\\tensorflow\\lib\\site-packages\\notebook\\bundler\\bundlerextensions.py\", line 211, in start\n",
      "    self.toggle_bundler_python(self.extra_args[0])\n",
      "  File \"C:\\Users\\vivek\\miniconda3\\envs\\tensorflow\\lib\\site-packages\\notebook\\bundler\\bundlerextensions.py\", line 200, in toggle_bundler_python\n",
      "    return toggle(module,\n",
      "  File \"C:\\Users\\vivek\\miniconda3\\envs\\tensorflow\\lib\\site-packages\\notebook\\bundler\\bundlerextensions.py\", line 148, in enable_bundler_python\n",
      "    return _set_bundler_state_python(True, module, user, sys_prefix,\n",
      "  File \"C:\\Users\\vivek\\miniconda3\\envs\\tensorflow\\lib\\site-packages\\notebook\\bundler\\bundlerextensions.py\", line 120, in _set_bundler_state_python\n",
      "    m, bundlers = _get_bundler_metadata(module)\n",
      "  File \"C:\\Users\\vivek\\miniconda3\\envs\\tensorflow\\lib\\site-packages\\notebook\\bundler\\bundlerextensions.py\", line 35, in _get_bundler_metadata\n",
      "    m = import_item(module)\n",
      "  File \"C:\\Users\\vivek\\miniconda3\\envs\\tensorflow\\lib\\site-packages\\traitlets\\utils\\importstring.py\", line 38, in import_item\n",
      "    return __import__(parts[0])\n",
      "ModuleNotFoundError: No module named 'nbreport'\n"
     ]
    }
   ],
   "source": [
    "!jupyter bundlerextension enable --py nbreport --sys-prefix"
   ]
  },
  {
   "cell_type": "code",
   "execution_count": 1,
   "id": "e179acfb",
   "metadata": {},
   "outputs": [
    {
     "name": "stderr",
     "output_type": "stream",
     "text": [
      "Config option `kernel_spec_manager_class` not recognized by `EnableBundlerExtensionApp`.\n",
      "Traceback (most recent call last):\n",
      "  File \"C:\\Users\\vivek\\miniconda3\\envs\\tensorflow\\Scripts\\jupyter-bundlerextension-script.py\", line 9, in <module>\n",
      "    sys.exit(main())\n",
      "  File \"C:\\Users\\vivek\\miniconda3\\envs\\tensorflow\\lib\\site-packages\\jupyter_core\\application.py\", line 264, in launch_instance\n",
      "    return super(JupyterApp, cls).launch_instance(argv=argv, **kwargs)\n",
      "  File \"C:\\Users\\vivek\\miniconda3\\envs\\tensorflow\\lib\\site-packages\\traitlets\\config\\application.py\", line 846, in launch_instance\n",
      "    app.start()\n",
      "  File \"C:\\Users\\vivek\\miniconda3\\envs\\tensorflow\\lib\\site-packages\\notebook\\bundler\\bundlerextensions.py\", line 297, in start\n",
      "    super().start()\n",
      "  File \"C:\\Users\\vivek\\miniconda3\\envs\\tensorflow\\lib\\site-packages\\jupyter_core\\application.py\", line 253, in start\n",
      "    self.subapp.start()\n",
      "  File \"C:\\Users\\vivek\\miniconda3\\envs\\tensorflow\\lib\\site-packages\\notebook\\bundler\\bundlerextensions.py\", line 211, in start\n",
      "    self.toggle_bundler_python(self.extra_args[0])\n",
      "  File \"C:\\Users\\vivek\\miniconda3\\envs\\tensorflow\\lib\\site-packages\\notebook\\bundler\\bundlerextensions.py\", line 200, in toggle_bundler_python\n",
      "    return toggle(module,\n",
      "  File \"C:\\Users\\vivek\\miniconda3\\envs\\tensorflow\\lib\\site-packages\\notebook\\bundler\\bundlerextensions.py\", line 148, in enable_bundler_python\n",
      "    return _set_bundler_state_python(True, module, user, sys_prefix,\n",
      "  File \"C:\\Users\\vivek\\miniconda3\\envs\\tensorflow\\lib\\site-packages\\notebook\\bundler\\bundlerextensions.py\", line 120, in _set_bundler_state_python\n",
      "    m, bundlers = _get_bundler_metadata(module)\n",
      "  File \"C:\\Users\\vivek\\miniconda3\\envs\\tensorflow\\lib\\site-packages\\notebook\\bundler\\bundlerextensions.py\", line 35, in _get_bundler_metadata\n",
      "    m = import_item(module)\n",
      "  File \"C:\\Users\\vivek\\miniconda3\\envs\\tensorflow\\lib\\site-packages\\traitlets\\utils\\importstring.py\", line 38, in import_item\n",
      "    return __import__(parts[0])\n",
      "ModuleNotFoundError: No module named 'nbreport'\n"
     ]
    }
   ],
   "source": [
    "!jupyter bundlerextension enable --py nbreport --sys-prefix"
   ]
  },
  {
   "cell_type": "code",
   "execution_count": 2,
   "id": "4f7f4996",
   "metadata": {},
   "outputs": [
    {
     "name": "stdout",
     "output_type": "stream",
     "text": [
      "Collecting nbreport\n",
      "  Downloading nbreport-0.7.4-py3-none-any.whl (25 kB)\n",
      "Collecting jupyter\n",
      "  Downloading jupyter-1.0.0-py2.py3-none-any.whl (2.7 kB)\n",
      "Collecting ruamel.yaml<0.16.0,>=0.15.0\n",
      "  Downloading ruamel.yaml-0.15.100.tar.gz (318 kB)\n",
      "Collecting GitPython\n",
      "  Downloading GitPython-3.1.27-py3-none-any.whl (181 kB)\n",
      "Collecting cookiecutter<2.0.0,>=1.6.0\n",
      "  Downloading cookiecutter-1.7.3-py2.py3-none-any.whl (34 kB)\n",
      "Requirement already satisfied: nbconvert in c:\\users\\vivek\\miniconda3\\envs\\tensorflow\\lib\\site-packages (from nbreport) (6.4.2)\n",
      "Requirement already satisfied: click in c:\\users\\vivek\\miniconda3\\envs\\tensorflow\\lib\\site-packages (from nbreport) (8.0.3)\n",
      "Requirement already satisfied: nbformat in c:\\users\\vivek\\miniconda3\\envs\\tensorflow\\lib\\site-packages (from nbreport) (5.1.3)\n",
      "Requirement already satisfied: requests>=2.0 in c:\\users\\vivek\\miniconda3\\envs\\tensorflow\\lib\\site-packages (from nbreport) (2.27.1)\n",
      "Collecting jinja2-time>=0.2.0\n",
      "  Downloading jinja2_time-0.2.0-py2.py3-none-any.whl (6.4 kB)\n",
      "Collecting binaryornot>=0.4.4\n",
      "  Downloading binaryornot-0.4.4-py2.py3-none-any.whl (9.0 kB)\n",
      "Requirement already satisfied: six>=1.10 in c:\\users\\vivek\\miniconda3\\envs\\tensorflow\\lib\\site-packages (from cookiecutter<2.0.0,>=1.6.0->nbreport) (1.12.0)\n",
      "Collecting poyo>=0.5.0\n",
      "  Downloading poyo-0.5.0-py2.py3-none-any.whl (10 kB)\n",
      "Requirement already satisfied: Jinja2<4.0.0,>=2.7 in c:\\users\\vivek\\miniconda3\\envs\\tensorflow\\lib\\site-packages (from cookiecutter<2.0.0,>=1.6.0->nbreport) (3.0.3)\n",
      "Collecting python-slugify>=4.0.0\n",
      "  Downloading python_slugify-6.1.2-py2.py3-none-any.whl (9.4 kB)\n",
      "Requirement already satisfied: chardet>=3.0.2 in c:\\users\\vivek\\miniconda3\\envs\\tensorflow\\lib\\site-packages (from binaryornot>=0.4.4->cookiecutter<2.0.0,>=1.6.0->nbreport) (3.0.4)\n",
      "Requirement already satisfied: colorama in c:\\users\\vivek\\miniconda3\\envs\\tensorflow\\lib\\site-packages (from click->nbreport) (0.4.4)\n",
      "Requirement already satisfied: MarkupSafe>=2.0 in c:\\users\\vivek\\miniconda3\\envs\\tensorflow\\lib\\site-packages (from Jinja2<4.0.0,>=2.7->cookiecutter<2.0.0,>=1.6.0->nbreport) (2.0.1)\n",
      "Collecting arrow\n",
      "  Downloading arrow-1.2.3-py3-none-any.whl (66 kB)\n",
      "Collecting text-unidecode>=1.3\n",
      "  Downloading text_unidecode-1.3-py2.py3-none-any.whl (78 kB)\n",
      "Requirement already satisfied: charset-normalizer~=2.0.0 in c:\\users\\vivek\\miniconda3\\envs\\tensorflow\\lib\\site-packages (from requests>=2.0->nbreport) (2.0.4)\n",
      "Requirement already satisfied: idna<4,>=2.5 in c:\\users\\vivek\\miniconda3\\envs\\tensorflow\\lib\\site-packages (from requests>=2.0->nbreport) (2.10)\n",
      "Requirement already satisfied: certifi>=2017.4.17 in c:\\users\\vivek\\miniconda3\\envs\\tensorflow\\lib\\site-packages (from requests>=2.0->nbreport) (2021.10.8)\n",
      "Requirement already satisfied: urllib3<1.27,>=1.21.1 in c:\\users\\vivek\\miniconda3\\envs\\tensorflow\\lib\\site-packages (from requests>=2.0->nbreport) (1.25.11)\n",
      "Requirement already satisfied: python-dateutil>=2.7.0 in c:\\users\\vivek\\miniconda3\\envs\\tensorflow\\lib\\site-packages (from arrow->jinja2-time>=0.2.0->cookiecutter<2.0.0,>=1.6.0->nbreport) (2.8.2)\n",
      "Collecting gitdb<5,>=4.0.1\n",
      "  Downloading gitdb-4.0.9-py3-none-any.whl (63 kB)\n",
      "Collecting smmap<6,>=3.0.1\n",
      "  Downloading smmap-5.0.0-py3-none-any.whl (24 kB)\n",
      "Collecting jupyter-console\n",
      "Note: you may need to restart the kernel to use updated packages.  Downloading jupyter_console-6.4.4-py3-none-any.whl (22 kB)\n"
     ]
    },
    {
     "name": "stderr",
     "output_type": "stream",
     "text": [
      "WARNING: Ignoring invalid distribution -yping-extensions (c:\\users\\vivek\\miniconda3\\envs\\tensorflow\\lib\\site-packages)\n",
      "WARNING: Ignoring invalid distribution -yping-extensions (c:\\users\\vivek\\miniconda3\\envs\\tensorflow\\lib\\site-packages)\n",
      "WARNING: Ignoring invalid distribution -yping-extensions (c:\\users\\vivek\\miniconda3\\envs\\tensorflow\\lib\\site-packages)\n",
      "WARNING: Ignoring invalid distribution -yping-extensions (c:\\users\\vivek\\miniconda3\\envs\\tensorflow\\lib\\site-packages)\n",
      "WARNING: Ignoring invalid distribution -yping-extensions (c:\\users\\vivek\\miniconda3\\envs\\tensorflow\\lib\\site-packages)\n",
      "WARNING: Ignoring invalid distribution -yping-extensions (c:\\users\\vivek\\miniconda3\\envs\\tensorflow\\lib\\site-packages)\n",
      "WARNING: Ignoring invalid distribution -yping-extensions (c:\\users\\vivek\\miniconda3\\envs\\tensorflow\\lib\\site-packages)\n",
      "WARNING: Ignoring invalid distribution -yping-extensions (c:\\users\\vivek\\miniconda3\\envs\\tensorflow\\lib\\site-packages)\n",
      "WARNING: Ignoring invalid distribution -yping-extensions (c:\\users\\vivek\\miniconda3\\envs\\tensorflow\\lib\\site-packages)\n",
      "WARNING: Ignoring invalid distribution -yping-extensions (c:\\users\\vivek\\miniconda3\\envs\\tensorflow\\lib\\site-packages)\n",
      "WARNING: Ignoring invalid distribution -yping-extensions (c:\\users\\vivek\\miniconda3\\envs\\tensorflow\\lib\\site-packages)\n",
      "WARNING: Ignoring invalid distribution -yping-extensions (c:\\users\\vivek\\miniconda3\\envs\\tensorflow\\lib\\site-packages)\n",
      "WARNING: Ignoring invalid distribution -yping-extensions (c:\\users\\vivek\\miniconda3\\envs\\tensorflow\\lib\\site-packages)\n",
      "WARNING: Ignoring invalid distribution -yping-extensions (c:\\users\\vivek\\miniconda3\\envs\\tensorflow\\lib\\site-packages)\n",
      "WARNING: Ignoring invalid distribution -yping-extensions (c:\\users\\vivek\\miniconda3\\envs\\tensorflow\\lib\\site-packages)\n",
      "WARNING: Ignoring invalid distribution -yping-extensions (c:\\users\\vivek\\miniconda3\\envs\\tensorflow\\lib\\site-packages)\n",
      "WARNING: Ignoring invalid distribution -yping-extensions (c:\\users\\vivek\\miniconda3\\envs\\tensorflow\\lib\\site-packages)\n",
      "WARNING: Ignoring invalid distribution -yping-extensions (c:\\users\\vivek\\miniconda3\\envs\\tensorflow\\lib\\site-packages)\n"
     ]
    },
    {
     "name": "stdout",
     "output_type": "stream",
     "text": [
      "\n",
      "Requirement already satisfied: notebook in c:\\users\\vivek\\miniconda3\\envs\\tensorflow\\lib\\site-packages (from jupyter->nbreport) (6.4.8)\n",
      "Requirement already satisfied: ipywidgets in c:\\users\\vivek\\miniconda3\\envs\\tensorflow\\lib\\site-packages (from jupyter->nbreport) (7.6.5)\n",
      "Collecting qtconsole\n",
      "  Downloading qtconsole-5.3.2-py3-none-any.whl (120 kB)\n",
      "Requirement already satisfied: ipykernel in c:\\users\\vivek\\miniconda3\\envs\\tensorflow\\lib\\site-packages (from jupyter->nbreport) (6.9.0)\n",
      "Requirement already satisfied: traitlets<6.0,>=5.1.0 in c:\\users\\vivek\\miniconda3\\envs\\tensorflow\\lib\\site-packages (from ipykernel->jupyter->nbreport) (5.1.1)\n",
      "Requirement already satisfied: jupyter-client<8.0 in c:\\users\\vivek\\miniconda3\\envs\\tensorflow\\lib\\site-packages (from ipykernel->jupyter->nbreport) (7.1.2)\n",
      "Requirement already satisfied: ipython>=7.23.1 in c:\\users\\vivek\\miniconda3\\envs\\tensorflow\\lib\\site-packages (from ipykernel->jupyter->nbreport) (8.0.1)\n",
      "Requirement already satisfied: matplotlib-inline<0.2.0,>=0.1.0 in c:\\users\\vivek\\miniconda3\\envs\\tensorflow\\lib\\site-packages (from ipykernel->jupyter->nbreport) (0.1.3)\n",
      "Requirement already satisfied: tornado<7.0,>=4.2 in c:\\users\\vivek\\miniconda3\\envs\\tensorflow\\lib\\site-packages (from ipykernel->jupyter->nbreport) (6.1)\n",
      "Requirement already satisfied: debugpy<2.0,>=1.0.0 in c:\\users\\vivek\\miniconda3\\envs\\tensorflow\\lib\\site-packages (from ipykernel->jupyter->nbreport) (1.5.1)\n",
      "Requirement already satisfied: nest-asyncio in c:\\users\\vivek\\miniconda3\\envs\\tensorflow\\lib\\site-packages (from ipykernel->jupyter->nbreport) (1.5.4)\n",
      "Requirement already satisfied: stack-data in c:\\users\\vivek\\miniconda3\\envs\\tensorflow\\lib\\site-packages (from ipython>=7.23.1->ipykernel->jupyter->nbreport) (0.1.4)\n",
      "Requirement already satisfied: setuptools>=18.5 in c:\\users\\vivek\\miniconda3\\envs\\tensorflow\\lib\\site-packages (from ipython>=7.23.1->ipykernel->jupyter->nbreport) (58.0.4)\n",
      "Requirement already satisfied: pickleshare in c:\\users\\vivek\\miniconda3\\envs\\tensorflow\\lib\\site-packages (from ipython>=7.23.1->ipykernel->jupyter->nbreport) (0.7.5)\n",
      "Requirement already satisfied: jedi>=0.16 in c:\\users\\vivek\\miniconda3\\envs\\tensorflow\\lib\\site-packages (from ipython>=7.23.1->ipykernel->jupyter->nbreport) (0.18.1)\n",
      "Requirement already satisfied: prompt-toolkit!=3.0.0,!=3.0.1,<3.1.0,>=2.0.0 in c:\\users\\vivek\\miniconda3\\envs\\tensorflow\\lib\\site-packages (from ipython>=7.23.1->ipykernel->jupyter->nbreport) (3.0.27)\n",
      "Requirement already satisfied: decorator in c:\\users\\vivek\\miniconda3\\envs\\tensorflow\\lib\\site-packages (from ipython>=7.23.1->ipykernel->jupyter->nbreport) (5.1.1)\n",
      "Requirement already satisfied: pygments in c:\\users\\vivek\\miniconda3\\envs\\tensorflow\\lib\\site-packages (from ipython>=7.23.1->ipykernel->jupyter->nbreport) (2.11.2)\n",
      "Requirement already satisfied: black in c:\\users\\vivek\\miniconda3\\envs\\tensorflow\\lib\\site-packages (from ipython>=7.23.1->ipykernel->jupyter->nbreport) (22.1.0)\n",
      "Requirement already satisfied: backcall in c:\\users\\vivek\\miniconda3\\envs\\tensorflow\\lib\\site-packages (from ipython>=7.23.1->ipykernel->jupyter->nbreport) (0.2.0)\n",
      "Requirement already satisfied: parso<0.9.0,>=0.8.0 in c:\\users\\vivek\\miniconda3\\envs\\tensorflow\\lib\\site-packages (from jedi>=0.16->ipython>=7.23.1->ipykernel->jupyter->nbreport) (0.8.3)\n",
      "Requirement already satisfied: entrypoints in c:\\users\\vivek\\miniconda3\\envs\\tensorflow\\lib\\site-packages (from jupyter-client<8.0->ipykernel->jupyter->nbreport) (0.4)\n",
      "Requirement already satisfied: pyzmq>=13 in c:\\users\\vivek\\miniconda3\\envs\\tensorflow\\lib\\site-packages (from jupyter-client<8.0->ipykernel->jupyter->nbreport) (22.3.0)\n",
      "Requirement already satisfied: jupyter-core>=4.6.0 in c:\\users\\vivek\\miniconda3\\envs\\tensorflow\\lib\\site-packages (from jupyter-client<8.0->ipykernel->jupyter->nbreport) (4.9.1)\n",
      "Requirement already satisfied: pywin32>=1.0 in c:\\users\\vivek\\miniconda3\\envs\\tensorflow\\lib\\site-packages (from jupyter-core>=4.6.0->jupyter-client<8.0->ipykernel->jupyter->nbreport) (303)\n",
      "Requirement already satisfied: wcwidth in c:\\users\\vivek\\miniconda3\\envs\\tensorflow\\lib\\site-packages (from prompt-toolkit!=3.0.0,!=3.0.1,<3.1.0,>=2.0.0->ipython>=7.23.1->ipykernel->jupyter->nbreport) (0.2.5)\n",
      "Requirement already satisfied: mypy-extensions>=0.4.3 in c:\\users\\vivek\\miniconda3\\envs\\tensorflow\\lib\\site-packages (from black->ipython>=7.23.1->ipykernel->jupyter->nbreport) (0.4.3)\n",
      "Requirement already satisfied: tomli>=1.1.0 in c:\\users\\vivek\\miniconda3\\envs\\tensorflow\\lib\\site-packages (from black->ipython>=7.23.1->ipykernel->jupyter->nbreport) (2.0.1)\n",
      "Requirement already satisfied: platformdirs>=2 in c:\\users\\vivek\\miniconda3\\envs\\tensorflow\\lib\\site-packages (from black->ipython>=7.23.1->ipykernel->jupyter->nbreport) (2.5.0)\n",
      "Requirement already satisfied: pathspec>=0.9.0 in c:\\users\\vivek\\miniconda3\\envs\\tensorflow\\lib\\site-packages (from black->ipython>=7.23.1->ipykernel->jupyter->nbreport) (0.9.0)\n",
      "Requirement already satisfied: typing-extensions>=3.10.0.0 in c:\\users\\vivek\\miniconda3\\envs\\tensorflow\\lib\\site-packages (from black->ipython>=7.23.1->ipykernel->jupyter->nbreport) (4.2.0)\n",
      "Requirement already satisfied: ipython-genutils~=0.2.0 in c:\\users\\vivek\\miniconda3\\envs\\tensorflow\\lib\\site-packages (from ipywidgets->jupyter->nbreport) (0.2.0)\n",
      "Requirement already satisfied: jupyterlab-widgets>=1.0.0 in c:\\users\\vivek\\miniconda3\\envs\\tensorflow\\lib\\site-packages (from ipywidgets->jupyter->nbreport) (1.0.2)\n",
      "Requirement already satisfied: widgetsnbextension~=3.5.0 in c:\\users\\vivek\\miniconda3\\envs\\tensorflow\\lib\\site-packages (from ipywidgets->jupyter->nbreport) (3.5.2)\n",
      "Requirement already satisfied: jsonschema!=2.5.0,>=2.4 in c:\\users\\vivek\\miniconda3\\envs\\tensorflow\\lib\\site-packages (from nbformat->nbreport) (4.4.0)\n",
      "Requirement already satisfied: attrs>=17.4.0 in c:\\users\\vivek\\miniconda3\\envs\\tensorflow\\lib\\site-packages (from jsonschema!=2.5.0,>=2.4->nbformat->nbreport) (21.4.0)\n",
      "Requirement already satisfied: pyrsistent!=0.17.0,!=0.17.1,!=0.17.2,>=0.14.0 in c:\\users\\vivek\\miniconda3\\envs\\tensorflow\\lib\\site-packages (from jsonschema!=2.5.0,>=2.4->nbformat->nbreport) (0.18.1)\n",
      "Requirement already satisfied: prometheus-client in c:\\users\\vivek\\miniconda3\\envs\\tensorflow\\lib\\site-packages (from notebook->jupyter->nbreport) (0.13.1)\n",
      "Requirement already satisfied: argon2-cffi in c:\\users\\vivek\\miniconda3\\envs\\tensorflow\\lib\\site-packages (from notebook->jupyter->nbreport) (21.3.0)\n",
      "Requirement already satisfied: Send2Trash>=1.8.0 in c:\\users\\vivek\\miniconda3\\envs\\tensorflow\\lib\\site-packages (from notebook->jupyter->nbreport) (1.8.0)\n",
      "Requirement already satisfied: terminado>=0.8.3 in c:\\users\\vivek\\miniconda3\\envs\\tensorflow\\lib\\site-packages (from notebook->jupyter->nbreport) (0.13.1)\n",
      "Requirement already satisfied: pywinpty>=1.1.0 in c:\\users\\vivek\\miniconda3\\envs\\tensorflow\\lib\\site-packages (from terminado>=0.8.3->notebook->jupyter->nbreport) (2.0.2)\n",
      "Requirement already satisfied: argon2-cffi-bindings in c:\\users\\vivek\\miniconda3\\envs\\tensorflow\\lib\\site-packages (from argon2-cffi->notebook->jupyter->nbreport) (21.2.0)\n",
      "Requirement already satisfied: cffi>=1.0.1 in c:\\users\\vivek\\miniconda3\\envs\\tensorflow\\lib\\site-packages (from argon2-cffi-bindings->argon2-cffi->notebook->jupyter->nbreport) (1.15.0)\n",
      "Requirement already satisfied: pycparser in c:\\users\\vivek\\miniconda3\\envs\\tensorflow\\lib\\site-packages (from cffi>=1.0.1->argon2-cffi-bindings->argon2-cffi->notebook->jupyter->nbreport) (2.21)\n",
      "Requirement already satisfied: testpath in c:\\users\\vivek\\miniconda3\\envs\\tensorflow\\lib\\site-packages (from nbconvert->nbreport) (0.5.0)\n",
      "Requirement already satisfied: jupyterlab-pygments in c:\\users\\vivek\\miniconda3\\envs\\tensorflow\\lib\\site-packages (from nbconvert->nbreport) (0.1.2)\n",
      "Requirement already satisfied: bleach in c:\\users\\vivek\\miniconda3\\envs\\tensorflow\\lib\\site-packages (from nbconvert->nbreport) (4.1.0)\n",
      "Requirement already satisfied: defusedxml in c:\\users\\vivek\\miniconda3\\envs\\tensorflow\\lib\\site-packages (from nbconvert->nbreport) (0.7.1)\n",
      "Requirement already satisfied: nbclient<0.6.0,>=0.5.0 in c:\\users\\vivek\\miniconda3\\envs\\tensorflow\\lib\\site-packages (from nbconvert->nbreport) (0.5.10)\n",
      "Requirement already satisfied: mistune<2,>=0.8.1 in c:\\users\\vivek\\miniconda3\\envs\\tensorflow\\lib\\site-packages (from nbconvert->nbreport) (0.8.4)\n",
      "Requirement already satisfied: pandocfilters>=1.4.1 in c:\\users\\vivek\\miniconda3\\envs\\tensorflow\\lib\\site-packages (from nbconvert->nbreport) (1.5.0)\n",
      "Requirement already satisfied: packaging in c:\\users\\vivek\\miniconda3\\envs\\tensorflow\\lib\\site-packages (from bleach->nbconvert->nbreport) (21.3)\n",
      "Requirement already satisfied: webencodings in c:\\users\\vivek\\miniconda3\\envs\\tensorflow\\lib\\site-packages (from bleach->nbconvert->nbreport) (0.5.1)\n",
      "Requirement already satisfied: pyparsing!=3.0.5,>=2.0.2 in c:\\users\\vivek\\miniconda3\\envs\\tensorflow\\lib\\site-packages (from packaging->bleach->nbconvert->nbreport) (3.0.7)\n",
      "Collecting qtpy>=2.0.1\n",
      "  Downloading QtPy-2.2.0-py3-none-any.whl (82 kB)\n",
      "Requirement already satisfied: executing in c:\\users\\vivek\\miniconda3\\envs\\tensorflow\\lib\\site-packages (from stack-data->ipython>=7.23.1->ipykernel->jupyter->nbreport) (0.8.2)\n",
      "Requirement already satisfied: asttokens in c:\\users\\vivek\\miniconda3\\envs\\tensorflow\\lib\\site-packages (from stack-data->ipython>=7.23.1->ipykernel->jupyter->nbreport) (2.0.5)\n",
      "Requirement already satisfied: pure-eval in c:\\users\\vivek\\miniconda3\\envs\\tensorflow\\lib\\site-packages (from stack-data->ipython>=7.23.1->ipykernel->jupyter->nbreport) (0.2.2)\n",
      "Building wheels for collected packages: ruamel.yaml\n",
      "  Building wheel for ruamel.yaml (setup.py): started\n",
      "  Building wheel for ruamel.yaml (setup.py): finished with status 'done'\n",
      "  Created wheel for ruamel.yaml: filename=ruamel.yaml-0.15.100-py3-none-any.whl size=109818 sha256=2a9275c50138ce75940027c413dee31c503e84e40ea9cd94a0a71407b0bd7adf\n",
      "  Stored in directory: c:\\users\\vivek\\appdata\\local\\pip\\cache\\wheels\\73\\fc\\61\\6ccc52b584e2e35f0462b27d2231ce3790702814d0c3b66b02\n",
      "Successfully built ruamel.yaml\n",
      "Installing collected packages: text-unidecode, smmap, qtpy, arrow, qtconsole, python-slugify, poyo, jupyter-console, jinja2-time, gitdb, binaryornot, ruamel.yaml, jupyter, GitPython, cookiecutter, nbreport\n",
      "Successfully installed GitPython-3.1.27 arrow-1.2.3 binaryornot-0.4.4 cookiecutter-1.7.3 gitdb-4.0.9 jinja2-time-0.2.0 jupyter-1.0.0 jupyter-console-6.4.4 nbreport-0.7.4 poyo-0.5.0 python-slugify-6.1.2 qtconsole-5.3.2 qtpy-2.2.0 ruamel.yaml-0.15.100 smmap-5.0.0 text-unidecode-1.3\n"
     ]
    },
    {
     "name": "stderr",
     "output_type": "stream",
     "text": [
      "WARNING: Ignoring invalid distribution -yping-extensions (c:\\users\\vivek\\miniconda3\\envs\\tensorflow\\lib\\site-packages)\n",
      "WARNING: Ignoring invalid distribution -yping-extensions (c:\\users\\vivek\\miniconda3\\envs\\tensorflow\\lib\\site-packages)\n",
      "WARNING: Ignoring invalid distribution -yping-extensions (c:\\users\\vivek\\miniconda3\\envs\\tensorflow\\lib\\site-packages)\n",
      "WARNING: Ignoring invalid distribution -yping-extensions (c:\\users\\vivek\\miniconda3\\envs\\tensorflow\\lib\\site-packages)\n"
     ]
    }
   ],
   "source": [
    "pip install nbreport"
   ]
  },
  {
   "cell_type": "code",
   "execution_count": null,
   "id": "2df9ea60",
   "metadata": {},
   "outputs": [],
   "source": [
    "nbreport C:/Users/vivek/Downloads/Neon_hackers_Challenge.ipynb"
   ]
  }
 ],
 "metadata": {
  "kernelspec": {
   "display_name": "Python [conda env:tensorflow] *",
   "language": "python",
   "name": "conda-env-tensorflow-py"
  },
  "language_info": {
   "codemirror_mode": {
    "name": "ipython",
    "version": 3
   },
   "file_extension": ".py",
   "mimetype": "text/x-python",
   "name": "python",
   "nbconvert_exporter": "python",
   "pygments_lexer": "ipython3",
   "version": "3.9.7"
  }
 },
 "nbformat": 4,
 "nbformat_minor": 5
}
